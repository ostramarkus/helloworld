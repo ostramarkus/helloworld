{
  "nbformat": 4,
  "nbformat_minor": 0,
  "metadata": {
    "colab": {
      "name": "2 - Första programmet - variabler och datatyper.ipynb",
      "provenance": [],
      "collapsed_sections": [
        "Me_6BOCQelmV",
        "-1aWHrF6L-m1",
        "9WZFaK11ocgX"
      ],
      "toc_visible": true,
      "include_colab_link": true
    },
    "kernelspec": {
      "name": "python3",
      "display_name": "Python 3"
    }
  },
  "cells": [
    {
      "cell_type": "markdown",
      "metadata": {
        "id": "view-in-github",
        "colab_type": "text"
      },
      "source": [
        "<a href=\"https://colab.research.google.com/github/ostramarkus/helloworld/blob/master/2_F%C3%B6rsta_programmet_variabler_och_datatyper.ipynb\" target=\"_parent\"><img src=\"https://colab.research.google.com/assets/colab-badge.svg\" alt=\"Open In Colab\"/></a>"
      ]
    },
    {
      "cell_type": "markdown",
      "metadata": {
        "id": "yDBTjNDTA_e9"
      },
      "source": [
        "# 2 - Första programmet - funktionen `print()`, variabler och datatyper"
      ]
    },
    {
      "cell_type": "markdown",
      "metadata": {
        "id": "H1jSeeTidIS4"
      },
      "source": [
        "I den här guiden kommer vi börja ta våra första steg inom Python-programmering. Här kommer du att lära dig:\n",
        "\n",
        "1.   Att skriva ut text (*utdata*) med funktionen `print()`\n",
        "2.   Att lagra information i **variabler**\n",
        "3.   Att få *indata* från användaren med funktionen `input()`\n",
        "3.   Datatyper - olika sorter av data \n",
        "\n",
        "\n"
      ]
    },
    {
      "cell_type": "markdown",
      "metadata": {
        "id": "ny5esqLOtTTu"
      },
      "source": [
        "![Hello, world!](https://drive.google.com/uc?id=1m2IeRiV8Ru-GM4Tvd3wyRnWgUumX7E6r)"
      ]
    },
    {
      "cell_type": "markdown",
      "metadata": {
        "id": "UOz7F9aNBZws"
      },
      "source": [
        "## Skriv ut \"Hello, world!\" med `print()`\n",
        "\n",
        "\n",
        "När man lär sig ett nytt programspråk är det tradition att börja med ett program som skriver ut texten `\"Hello, world!\"`. \n",
        "\n",
        "Text (eller annan information) som ett program presenterar för användaren kallas för *utdata* - eller *output* på engelska.\n",
        "\n",
        "För att skriva ut text eller annan information från ett Python-program använder man funktionen `print`. (Mer om vad en *funktion* är tas upp i senare guider.)\n"
      ]
    },
    {
      "cell_type": "code",
      "metadata": {
        "id": "J0ExVDoS7IAF",
        "outputId": "0aad4622-1908-4540-c533-5e268f5ead67",
        "colab": {
          "base_uri": "https://localhost:8080/",
          "height": 34
        }
      },
      "source": [
        "print(\"Hello, world!\")"
      ],
      "execution_count": null,
      "outputs": [
        {
          "output_type": "stream",
          "text": [
            "Hello, world!\n"
          ],
          "name": "stdout"
        }
      ]
    },
    {
      "cell_type": "markdown",
      "metadata": {
        "id": "QvcE2HXkLOfj"
      },
      "source": [
        "Inom parenteserna () anger man det som ska skrivas ut. I vårt fall är det texten `Hello world!`. \n",
        "\n",
        "**Sträng** - Inom Python (och i många andra programsspråk) kallas textdata för en  *sträng* (*string* på engelska). En sträng omges alltid av citattecken (enkla: `'` eller dubbla: `\"`). \n",
        "\n",
        "**Testa själv!** Innan du går vidare i guiden bör du testa att du själv kan skriva ut `Hello, world!` med Python."
      ]
    },
    {
      "cell_type": "markdown",
      "metadata": {
        "id": "Me_6BOCQelmV"
      },
      "source": [
        "## Räkna matte med Python - aritmetiska operationer\n",
        "Man kan även enkelt använda Python för att räkna matte."
      ]
    },
    {
      "cell_type": "code",
      "metadata": {
        "id": "vMPezyVDe6R3",
        "outputId": "c7b3e0de-1197-4c05-a233-a10ceab2c6e3",
        "colab": {
          "base_uri": "https://localhost:8080/",
          "height": 68
        }
      },
      "source": [
        "print(4 * 2)\n",
        "print(4 + 2)\n",
        "print(4 / 2)"
      ],
      "execution_count": null,
      "outputs": [
        {
          "output_type": "stream",
          "text": [
            "8\n",
            "6\n",
            "2.0\n"
          ],
          "name": "stdout"
        }
      ]
    },
    {
      "cell_type": "markdown",
      "metadata": {
        "id": "IeInw-6CqShL"
      },
      "source": [
        "**Tips:** Om man använder **Google Colaboratory** eller Pythons repl-program behöver man inte använda funktionen `print` för att skriva ut något. Colaboratory skriver ut resultatet av det sista man skriver i en kod-cell. Exempel:"
      ]
    },
    {
      "cell_type": "code",
      "metadata": {
        "id": "WW66Ncr_q8TL",
        "outputId": "7036d850-f4c4-49b8-e7a3-7e1c86e5f055",
        "colab": {
          "base_uri": "https://localhost:8080/",
          "height": 34
        }
      },
      "source": [
        "2 + 4"
      ],
      "execution_count": null,
      "outputs": [
        {
          "output_type": "execute_result",
          "data": {
            "text/plain": [
              "6"
            ]
          },
          "metadata": {
            "tags": []
          },
          "execution_count": 33
        }
      ]
    },
    {
      "cell_type": "markdown",
      "metadata": {
        "id": "2m0bFfqphD_m"
      },
      "source": [
        "### Matematiska tecken - aritmetiska operatorer\n",
        "\n",
        "Här är en förteckning över de tecken (operatorer) man kan använda inom [aritmetik](https://sv.wikipedia.org/wiki/Aritmetik) i Python.\n",
        "\n",
        "| Operator | Namn | Exempel |\n",
        "|---|---|---|\n",
        "| + | Addition | x + y\n",
        "| - | Subtraktion | x - y\t\n",
        "| * | Multiplikation | x * y\t\n",
        "| /| Division|x / y|\t\n",
        "|%|\tModulus| x % y\t\n",
        "|** | Exponentiering | x ** y\t \n",
        "| // |\tAvrundad division(nedåt)| x // y"
      ]
    },
    {
      "cell_type": "markdown",
      "metadata": {
        "id": "ap9_JuiXjfFb"
      },
      "source": [
        "**Räkneordning - parenteser**. Precis som inom matematiken kan man använda parenteser för styra räkneordningen:"
      ]
    },
    {
      "cell_type": "code",
      "metadata": {
        "id": "d61sNrlBkHpu",
        "outputId": "fc9347cf-7060-4b6f-cd81-fa3229dffd4b",
        "colab": {
          "base_uri": "https://localhost:8080/",
          "height": 34
        }
      },
      "source": [
        "print(2 * (2 + 4))"
      ],
      "execution_count": null,
      "outputs": [
        {
          "output_type": "stream",
          "text": [
            "12\n"
          ],
          "name": "stdout"
        }
      ]
    },
    {
      "cell_type": "code",
      "metadata": {
        "id": "8OJNdPpQkPLu",
        "outputId": "71dd7359-8052-4cd1-ea1e-9c2ea3c49ffa",
        "colab": {
          "base_uri": "https://localhost:8080/",
          "height": 34
        }
      },
      "source": [
        "print(2 * 2 + 4)"
      ],
      "execution_count": null,
      "outputs": [
        {
          "output_type": "stream",
          "text": [
            "8\n"
          ],
          "name": "stdout"
        }
      ]
    },
    {
      "cell_type": "markdown",
      "metadata": {
        "id": "9qvjUM0jfKg5"
      },
      "source": [
        "**Inga citattecken runt tal.** Observera att vi inte använder citattecken runt tal. Om vi hade använt citattecken runt talen hade de tolkats som en textsträng."
      ]
    },
    {
      "cell_type": "code",
      "metadata": {
        "id": "aOucEN2CgYBX",
        "outputId": "827b91c8-06c8-47ce-ce01-ed51924d3c47",
        "colab": {
          "base_uri": "https://localhost:8080/",
          "height": 34
        }
      },
      "source": [
        "print(\"4\" + \"2\")"
      ],
      "execution_count": null,
      "outputs": [
        {
          "output_type": "stream",
          "text": [
            "42\n"
          ],
          "name": "stdout"
        }
      ]
    },
    {
      "cell_type": "markdown",
      "metadata": {
        "id": "TRiNntNggcHl"
      },
      "source": [
        "Här ovan ser vi att plustecknet **+** istället sätter ihop två textsträngar. Detta kallas inom programmering för *konkatenering*. \n",
        "\n",
        "Ett annat exempel:\n"
      ]
    },
    {
      "cell_type": "code",
      "metadata": {
        "id": "eJj8qCMlgyzO",
        "outputId": "cd957bb9-6a25-4257-d8c9-4ca6711c1109",
        "colab": {
          "base_uri": "https://localhost:8080/",
          "height": 34
        }
      },
      "source": [
        "print(\"Markus \" + \"Pettersson\")"
      ],
      "execution_count": 1,
      "outputs": [
        {
          "output_type": "stream",
          "text": [
            "Markus Pettersson\n"
          ],
          "name": "stdout"
        }
      ]
    },
    {
      "cell_type": "markdown",
      "metadata": {
        "id": "-1aWHrF6L-m1"
      },
      "source": [
        "##Variabler\n",
        "I programmering har man ofta behov att **lagra information** i datorns minne för att sedan kunna nå informationen senare i programmet. För att lagra information kan man använda *variabler*. En variabel kan liknas vid en namngiven behållare för information. Information kan t.ex. vara text, heltal eller decimaltal. \n",
        "\n",
        "Här nedan skapar vi en variabel med **variabelnamnet** `efternamn`,  vi **tilldelar** sedan variabel texten `Pettersson`. Man kan likna det vid att vi stoppar in texten `Pettersson` i en behållare som vi gett namnet `efternamn`. En variabel kan man döpa till (nästan) vad som helst, men man bör välja namn som visar vad variabeln innehåller för information.\n",
        "\n",
        "Eftersom `Pettersson` är en textsträng, alltså en serie sammanhängande tecken, omger vi texten med citattecken."
      ]
    },
    {
      "cell_type": "code",
      "metadata": {
        "id": "vpZHSFpKOQV0"
      },
      "source": [
        "efternamn = \"Pettersson\""
      ],
      "execution_count": null,
      "outputs": []
    },
    {
      "cell_type": "markdown",
      "metadata": {
        "id": "r1xqsFqCQFyN"
      },
      "source": [
        "Vi kan sedan använda variabeln i t.ex. funktionen `print`."
      ]
    },
    {
      "cell_type": "code",
      "metadata": {
        "id": "6XDzDmIpQZeG",
        "outputId": "ae36ef85-4321-4682-89f1-0e6d88961ab1",
        "colab": {
          "base_uri": "https://localhost:8080/",
          "height": 34
        }
      },
      "source": [
        "print(efternamn)"
      ],
      "execution_count": null,
      "outputs": [
        {
          "output_type": "stream",
          "text": [
            "Pettersson\n"
          ],
          "name": "stdout"
        }
      ]
    },
    {
      "cell_type": "markdown",
      "metadata": {
        "id": "X6XNQFAeQbzE"
      },
      "source": [
        "När man skriver ut en variabel med `print`-funktionen skrivs alltså variabelns innehåll ut.\n",
        "\n",
        "Om vi vill **ändra värdet** (innehållet) för variabeln tilldelar vi den bara ett nytt värde:"
      ]
    },
    {
      "cell_type": "code",
      "metadata": {
        "id": "e-luoSxKQjRI",
        "outputId": "03dce15e-0cf2-4156-e2da-af7a2202e4e7",
        "colab": {
          "base_uri": "https://localhost:8080/",
          "height": 34
        }
      },
      "source": [
        "efternamn = \"Andersson\"\n",
        "print(efternamn)"
      ],
      "execution_count": null,
      "outputs": [
        {
          "output_type": "stream",
          "text": [
            "Andersson\n"
          ],
          "name": "stdout"
        }
      ]
    },
    {
      "cell_type": "markdown",
      "metadata": {
        "id": "EraZZcUnQlAQ"
      },
      "source": [
        "### Numeriska variabler\n",
        "Man kan också lagra nummer i variabler. Dessa variabler kan sedan användas i matematiska räkneoperationer."
      ]
    },
    {
      "cell_type": "code",
      "metadata": {
        "id": "F1tA0f_0nUEa",
        "outputId": "f1f7ae03-c247-4487-c3c1-e5b3c92947b9",
        "colab": {
          "base_uri": "https://localhost:8080/",
          "height": 34
        }
      },
      "source": [
        "tal1 = 5\n",
        "tal2 = 7\n",
        "\n",
        "summa = tal1 + tal2\n",
        "print(summa)"
      ],
      "execution_count": null,
      "outputs": [
        {
          "output_type": "stream",
          "text": [
            "12\n"
          ],
          "name": "stdout"
        }
      ]
    },
    {
      "cell_type": "markdown",
      "metadata": {
        "id": "RZxyyofvna43"
      },
      "source": [
        "I exemplet ovan skapar vi en tredje variabel (`summa`) och tilldelar den resultatet av `tal1 + tal2`.\n",
        "\n",
        "Man skulle kunna strunta i den tredje variabeln (`summa`) i exemplet ovan och i stället skriva:"
      ]
    },
    {
      "cell_type": "code",
      "metadata": {
        "id": "6cCJ1P5vroih",
        "outputId": "c4c19d7f-2d5e-4f31-83d3-c1f9ffc35868",
        "colab": {
          "base_uri": "https://localhost:8080/",
          "height": 34
        }
      },
      "source": [
        "tal1 = 5\n",
        "tal2 = 7\n",
        "\n",
        "print(tal1 + tal2)"
      ],
      "execution_count": null,
      "outputs": [
        {
          "output_type": "stream",
          "text": [
            "12\n"
          ],
          "name": "stdout"
        }
      ]
    },
    {
      "cell_type": "markdown",
      "metadata": {
        "id": "_NEiWAhXrtTb"
      },
      "source": [
        "Och om man använder Google Colaboratory (eller liknande Notebook-program) skulle man kunna strunta i `print`-funktionen:\n"
      ]
    },
    {
      "cell_type": "code",
      "metadata": {
        "id": "Za-wQqVgr43g",
        "outputId": "9c43a64f-8f04-49ff-e12d-36e655f571eb",
        "colab": {
          "base_uri": "https://localhost:8080/",
          "height": 34
        }
      },
      "source": [
        "tal1 = 5\n",
        "tal2 = 7\n",
        "\n",
        "tal1 + tal2"
      ],
      "execution_count": null,
      "outputs": [
        {
          "output_type": "execute_result",
          "data": {
            "text/plain": [
              "12"
            ]
          },
          "metadata": {
            "tags": []
          },
          "execution_count": 36
        }
      ]
    },
    {
      "cell_type": "markdown",
      "metadata": {
        "id": "rjiOpnyAnzG_"
      },
      "source": [
        "### Decimaltal\n",
        "Hittills har vi bara använt oss av heltal, men man kan självklart räkna med decimaltal med Python. Viktigt att tänka på att man då använder **punkt** som decimaltecken, inte komma."
      ]
    },
    {
      "cell_type": "code",
      "metadata": {
        "id": "4VsQhw0YoVll",
        "outputId": "3d8e4462-9e06-49f3-93cd-adbdcdaf21a2",
        "colab": {
          "base_uri": "https://localhost:8080/",
          "height": 34
        }
      },
      "source": [
        "tal1 = 2.5\n",
        "tal2 = 3.3\n",
        "\n",
        "print(tal1 * tal2)"
      ],
      "execution_count": null,
      "outputs": [
        {
          "output_type": "stream",
          "text": [
            "8.25\n"
          ],
          "name": "stdout"
        }
      ]
    },
    {
      "cell_type": "markdown",
      "metadata": {
        "id": "9WZFaK11ocgX"
      },
      "source": [
        "##Datatyper\n",
        "I exemplena ovan har vi använt oss av tre olika sorters data: text, heltal och decimaltal. Inom programmering kallas sorten av data för *datatyp*. (*Datatype* på engelska.) Dessa olika typer av data behandlas olika av datorns processor och har sina egna egenskaper och begränsningar.\n",
        "\n",
        "Man kan t.ex. inte addera ett heltal med en textsträng: "
      ]
    },
    {
      "cell_type": "code",
      "metadata": {
        "id": "xpO55yiFsVtl",
        "outputId": "09d8c8d4-bd85-4031-a6ad-63ff232abd2a",
        "colab": {
          "base_uri": "https://localhost:8080/",
          "height": 163
        }
      },
      "source": [
        "print(\"Ett\" + 42)"
      ],
      "execution_count": null,
      "outputs": [
        {
          "output_type": "error",
          "ename": "TypeError",
          "evalue": "ignored",
          "traceback": [
            "\u001b[0;31m---------------------------------------------------------------------------\u001b[0m",
            "\u001b[0;31mTypeError\u001b[0m                                 Traceback (most recent call last)",
            "\u001b[0;32m<ipython-input-37-22e8a864edc1>\u001b[0m in \u001b[0;36m<module>\u001b[0;34m()\u001b[0m\n\u001b[0;32m----> 1\u001b[0;31m \u001b[0mprint\u001b[0m\u001b[0;34m(\u001b[0m\u001b[0;34m\"Jag är \"\u001b[0m \u001b[0;34m+\u001b[0m \u001b[0;36m42\u001b[0m \u001b[0;34m+\u001b[0m \u001b[0;34m\" år gammal\"\u001b[0m\u001b[0;34m)\u001b[0m\u001b[0;34m\u001b[0m\u001b[0;34m\u001b[0m\u001b[0m\n\u001b[0m",
            "\u001b[0;31mTypeError\u001b[0m: must be str, not int"
          ]
        }
      ]
    },
    {
      "cell_type": "markdown",
      "metadata": {
        "id": "OwP4krZVsDL_"
      },
      "source": [
        "**Felmeddelanden**. Här ovan ser vi ett **felmeddlande** från Python. (Och när man programmerar kommer man stöta på många felmeddelanden - oavsett hur erfaren man är.) I felmeddelandet kan man se vilken sorts fel det rör sig om: `TypeError`. Vi ser också vilken rad felet kommer ifrån och sist får vi en kort förklaring till felet. Python säger åt oss att värdet vi vill addera eller sätta ihop ska vara en `str` (en textsträng) och inte en `int` (heltal)."
      ]
    },
    {
      "cell_type": "markdown",
      "metadata": {
        "id": "pqux3w17tKtF"
      },
      "source": [
        "De tre datatyper vi hittills använt oss av är:\n",
        "* **Textsträngar** - t.ex. `\"Jag vill ha glass!\"`. I Python kallas dessa för **strings** - förkortat **str**.\n",
        "* **Heltal** - t.ex. `100`. I Python kallas dessa för **integers** - förkortat **int**.\n",
        "* **Decimaltal** - t.ex. `3.14`. I Python kallas dessa för **float** (och har ingen förkortning)."
      ]
    },
    {
      "cell_type": "markdown",
      "metadata": {
        "id": "zjcL64lpuVZ6"
      },
      "source": [
        "Om man vill ta reda på vilken datatyp ett värde eller en variabel är kan man använda funktionen `type()`."
      ]
    },
    {
      "cell_type": "code",
      "metadata": {
        "id": "6q69RFLUvPjz",
        "outputId": "5c0e7cfb-c009-43d2-a172-cbc15fb64c56",
        "colab": {
          "base_uri": "https://localhost:8080/",
          "height": 34
        }
      },
      "source": [
        "type(\"Markus Pettersson\")"
      ],
      "execution_count": null,
      "outputs": [
        {
          "output_type": "execute_result",
          "data": {
            "text/plain": [
              "str"
            ]
          },
          "metadata": {
            "tags": []
          },
          "execution_count": 1
        }
      ]
    },
    {
      "cell_type": "code",
      "metadata": {
        "id": "df9ZscQCvaSz",
        "outputId": "228a629f-618e-468d-c97e-d90a82468aad",
        "colab": {
          "base_uri": "https://localhost:8080/",
          "height": 34
        }
      },
      "source": [
        "type(5)"
      ],
      "execution_count": null,
      "outputs": [
        {
          "output_type": "execute_result",
          "data": {
            "text/plain": [
              "int"
            ]
          },
          "metadata": {
            "tags": []
          },
          "execution_count": 40
        }
      ]
    },
    {
      "cell_type": "code",
      "metadata": {
        "id": "9xX9tbY_vbZg",
        "outputId": "0a2f2237-46d7-45ad-a641-512880ca42f7",
        "colab": {
          "base_uri": "https://localhost:8080/",
          "height": 34
        }
      },
      "source": [
        "type(3.1415)"
      ],
      "execution_count": null,
      "outputs": [
        {
          "output_type": "execute_result",
          "data": {
            "text/plain": [
              "float"
            ]
          },
          "metadata": {
            "tags": []
          },
          "execution_count": 41
        }
      ]
    },
    {
      "cell_type": "markdown",
      "metadata": {
        "id": "q2FWs5245gGl"
      },
      "source": [
        "###Konvertera mellan datatyper\n",
        "Man kan i vissa fall konvertera ett värde till en annan datatyp:\n",
        "\n",
        "* `str()` konverterar ett värde till en textsträng.\n",
        "* `int()` konverterar ett värde till ett heltal.\n",
        "* `float()` konverterar ett värde till ett decimaltal."
      ]
    },
    {
      "cell_type": "code",
      "metadata": {
        "id": "AtMgij4x5wKI",
        "outputId": "437697ef-b60c-44dd-9034-e7a9f2075a04",
        "colab": {
          "base_uri": "https://localhost:8080/",
          "height": 34
        }
      },
      "source": [
        "heltal = 12\n",
        "\n",
        "heltal_som_sträng = str(heltal)\n",
        "\n",
        "print(\"Jag vill ha \" + heltal_som_sträng + \" glassar\")"
      ],
      "execution_count": null,
      "outputs": [
        {
          "output_type": "stream",
          "text": [
            "Jag vill ha 12 glassar\n"
          ],
          "name": "stdout"
        }
      ]
    },
    {
      "cell_type": "markdown",
      "metadata": {
        "id": "-4HVzF4D54PW"
      },
      "source": [
        "I exemplet ovan har vi heltalet 12 i variabeln `heltal`. För att sätta ihop det med en textsträng måste vi konvertera heltalet till en textsträng. Det gör vi på andra raden med funktionen `str()`."
      ]
    },
    {
      "cell_type": "markdown",
      "metadata": {
        "id": "8eNd6Yrd-AH3"
      },
      "source": [
        "Vi testar att konvertera ett decimaltal till ett heltal:"
      ]
    },
    {
      "cell_type": "code",
      "metadata": {
        "id": "6c5l3l9n-Ghc",
        "outputId": "9ee263d4-5919-41d6-dbab-999c1b4d1d8d",
        "colab": {
          "base_uri": "https://localhost:8080/",
          "height": 34
        }
      },
      "source": [
        "decimaltal = 9.99\n",
        "heltal = int(decimaltal)\n",
        "print(heltal)"
      ],
      "execution_count": null,
      "outputs": [
        {
          "output_type": "stream",
          "text": [
            "9\n"
          ],
          "name": "stdout"
        }
      ]
    },
    {
      "cell_type": "markdown",
      "metadata": {
        "id": "YLLpei03-PUf"
      },
      "source": [
        "Här ser vi att konverteringen till heltal inte avrundar ett decimaltal uppåt, den tar bara bort allt efter decimaltecknet. (Om man vill avrunda ett tal får man använda funktionen `math.round`.)  "
      ]
    },
    {
      "cell_type": "markdown",
      "metadata": {
        "id": "AJj0oS0N7aRh"
      },
      "source": [
        "## Få indata från användaren med funktionen `input()`\n",
        "Om man vill fråga programmets användare efter information kan man använda funktionen `input()`. Inom parenteserna skriver man ett meddelande eller en fråga till användaren. "
      ]
    },
    {
      "cell_type": "code",
      "metadata": {
        "id": "uWT6XdMS8lnp",
        "outputId": "08a57cb7-0431-4c5b-a482-49160b99d7cb",
        "colab": {
          "base_uri": "https://localhost:8080/",
          "height": 51
        }
      },
      "source": [
        "ålder = input(\"Hur gammal är du? \")\n",
        "print(\"Du är \" + ålder + \" år gammal.\")"
      ],
      "execution_count": null,
      "outputs": [
        {
          "output_type": "stream",
          "text": [
            "Hur gammal är du? 100\n",
            "Du är 100 år gammal.\n"
          ],
          "name": "stdout"
        }
      ]
    },
    {
      "cell_type": "markdown",
      "metadata": {
        "id": "ESh_PArZ8orQ"
      },
      "source": [
        "I exemplet ovan frågar vi efter användarens ålder med funktionen `input()`. Svaret lagrar vi i variabeln `ålder`. Vi skriver sedan ut åldern i ett svar genom att *konkatenera* text med vår variabel.\n",
        "\n",
        "**Obs:**  det man får tillbaka från `input` är alltid en textsträng. Om man vill göra någon matematisk operation med värdena får man konvertera dem till heltal eller decimaltal. Exempel:"
      ]
    },
    {
      "cell_type": "code",
      "metadata": {
        "id": "Lhme_fh89oNA",
        "outputId": "ec5f565e-4bf4-488f-d05e-2624295b1559",
        "colab": {
          "base_uri": "https://localhost:8080/",
          "height": 85
        }
      },
      "source": [
        "print(\"Ange två tal att addera.\")\n",
        "\n",
        "tal1 = input(\"Första talet: \")\n",
        "tal2 = input(\"Andra talet: \")\n",
        "\n",
        "summa = tal1 + tal2\n",
        "\n",
        "print(\"Summa: \" + summa)"
      ],
      "execution_count": null,
      "outputs": [
        {
          "output_type": "stream",
          "text": [
            "Ange två tal att addera.\n",
            "Första talet: 12\n",
            "Andra talet: 10\n",
            "Summa: 1210\n"
          ],
          "name": "stdout"
        }
      ]
    },
    {
      "cell_type": "markdown",
      "metadata": {
        "id": "gx20l3pr_7Os"
      },
      "source": [
        "**Exemplet ovan:** Eftersom de värdena vi får från användaren tolkas som textsträngar sätts de ihop (*konkateneras*) istället för att adderas. \n",
        "\n",
        "Så här skulle programmet istället kunna se ut:"
      ]
    },
    {
      "cell_type": "code",
      "metadata": {
        "id": "-JGG4pajAQz_",
        "outputId": "0cb2c481-d519-4e5d-ccdc-cb93c7bbdf29",
        "colab": {
          "base_uri": "https://localhost:8080/",
          "height": 85
        }
      },
      "source": [
        "print(\"Ange två tal att addera.\")\n",
        "\n",
        "tal1 = int(input(\"Första talet: \"))\n",
        "tal2 = int(input(\"Andra talet: \"))\n",
        "\n",
        "summa = tal1 + tal2\n",
        "\n",
        "print(\"Summa: \" + str(summa))"
      ],
      "execution_count": null,
      "outputs": [
        {
          "output_type": "stream",
          "text": [
            "Ange två tal att addera.\n",
            "Första talet: 12\n",
            "Andra talet: 10\n",
            "Summa: 22\n"
          ],
          "name": "stdout"
        }
      ]
    },
    {
      "cell_type": "markdown",
      "metadata": {
        "id": "V2qHrMI0AXli"
      },
      "source": [
        "Här omsluter vi `input`-funktionerna i en `int`-funktion. Det gör att värdet konverteras till ett heltal innan det lagras i variablerna.\n",
        "\n",
        "När vi sedan skriver ut summan konverterar vi det till en textsträng inom `print`-funktionen.\n"
      ]
    },
    {
      "cell_type": "markdown",
      "metadata": {
        "id": "G5UYoafHBBYm"
      },
      "source": [
        "![alt text](https://drive.google.com/uc?id=12-0awSeQrwxTZBkwB4OrbOKQQK0esyxH)\n",
        "\n",
        "\n",
        "## Övning 1 - ett program som räknar ut arean av en triangel\n",
        "För att öva dig i det vi lärt oss hittills ska du göra ett program som räknar ut arean av en triangel. Programmet ska fråga efter **basen** och **höjden** på triangeln och skriva ut **arean**.\n",
        "\n",
        "\n",
        "\n",
        "[Arean av en triangel](https://www.matteboken.se/lektioner/skolar-6/geometri/area)\n",
        "\n"
      ]
    },
    {
      "cell_type": "markdown",
      "metadata": {
        "id": "c2iCf8E7wa85"
      },
      "source": [
        "\n",
        "\n",
        "---\n",
        "\n"
      ]
    },
    {
      "cell_type": "markdown",
      "metadata": {
        "id": "Rm1LGkm5FLEz"
      },
      "source": [
        "##Sammafattning av guiden\n",
        "`print()` - skriver ut något.\n",
        "\n",
        "`input()` - låter användaren skriva indata till programmet.\n",
        "\n",
        "**Variabel** är en behållare för data. En variabel tilldelas ett värde med tecknet `=`.\n",
        "\n",
        "Data kan vara av olika sorter, så kallade *datatyper*."
      ]
    },
    {
      "cell_type": "code",
      "metadata": {
        "id": "PQdKseyNv3Mf"
      },
      "source": [
        ""
      ],
      "execution_count": null,
      "outputs": []
    }
  ]
}